{
 "cells": [
  {
   "cell_type": "markdown",
   "source": [
    "# 常规赛：PALM病理性近视预测 8月第五名方案\r\n",
    "## 解压数据集"
   ],
   "metadata": {
    "collapsed": false
   }
  },
  {
   "cell_type": "code",
   "execution_count": 1,
   "source": [
    "%cd /home/aistudio/data/data93479\r\n",
    "!unzip ./常规赛：PALM病理性近视预测.zip\r\n",
    "!mv -f /home/aistudio/data/data93479/常规赛：PALM病理性近视预测/* /home/aistudio/data"
   ],
   "outputs": [
    {
     "output_type": "stream",
     "name": "stdout",
     "text": [
      "  inflating: __MACOSX/常规赛：PALM病理性近视预测/._Train  \r"
     ]
    }
   ],
   "metadata": {
    "collapsed": false
   }
  },
  {
   "cell_type": "markdown",
   "source": [
    "进入工作文件夹"
   ],
   "metadata": {
    "collapsed": false
   }
  },
  {
   "cell_type": "code",
   "execution_count": 2,
   "source": [
    "%cd /home/aistudio/work"
   ],
   "outputs": [
    {
     "output_type": "stream",
     "name": "stdout",
     "text": [
      "/home/aistudio/work\n"
     ]
    }
   ],
   "metadata": {
    "collapsed": false
   }
  },
  {
   "cell_type": "markdown",
   "source": [
    "## 安装PPIM\r\n",
    "本次需要使用PPIM中的预训练模型Diet-base-224\r\n",
    "- 持久化至external-libraries"
   ],
   "metadata": {
    "collapsed": false
   }
  },
  {
   "cell_type": "code",
   "execution_count": 3,
   "source": [
    "#持久化ppim\r\n",
    "!mkdir /home/aistudio/external-libraries\r\n",
    "!pip install ppim -i https://pypi.python.org/pypi -t /home/aistudio/external-libraries"
   ],
   "outputs": [
    {
     "output_type": "stream",
     "name": "stdout",
     "text": [
      "Looking in indexes: https://pypi.python.org/pypi\n",
      "Collecting ppim\n",
      "\u001b[?25l  Downloading https://files.pythonhosted.org/packages/e7/35/369dc6956de64359703bb49d20721e0ae963c1183bb4c88535470f2efe93/ppim-1.1.0-py3-none-any.whl (66kB)\n",
      "\u001b[K     |████████████████████████████████| 71kB 12kB/s eta 0:00:012\n",
      "\u001b[?25hCollecting wget (from ppim)\n",
      "  Downloading https://files.pythonhosted.org/packages/47/6a/62e288da7bcda82b935ff0c6cfe542970f04e29c756b0e147251b2fb251f/wget-3.2.zip\n",
      "Building wheels for collected packages: wget\n",
      "  Building wheel for wget (setup.py) ... \u001b[?25ldone\n",
      "\u001b[?25h  Created wheel for wget: filename=wget-3.2-cp37-none-any.whl size=9675 sha256=41741c3de1ae7ae2662a2a12cea3ff76f061cc00381d41351a8439ce4d822e0d\n",
      "  Stored in directory: /home/aistudio/.cache/pip/wheels/d1/e3/b6/e6be72d63f667cef0226c3eedff3e6658ba97d5be7d9df25dd\n",
      "Successfully built wget\n",
      "Installing collected packages: wget, ppim\n",
      "Successfully installed ppim-1.1.0 wget-3.2\n"
     ]
    }
   ],
   "metadata": {
    "collapsed": false
   }
  },
  {
   "cell_type": "markdown",
   "source": [
    "将安装的PPIM导入到环境"
   ],
   "metadata": {
    "collapsed": false
   }
  },
  {
   "cell_type": "code",
   "execution_count": 4,
   "source": [
    "import sys \r\n",
    "sys.path.append('/home/aistudio/external-libraries')"
   ],
   "outputs": [],
   "metadata": {
    "collapsed": false
   }
  },
  {
   "cell_type": "markdown",
   "source": [
    "## 准备工作\r\n",
    "导入包，设置随机种子。"
   ],
   "metadata": {
    "collapsed": false
   }
  },
  {
   "cell_type": "code",
   "execution_count": 5,
   "source": [
    "import os\r\n",
    "import math\r\n",
    "import random\r\n",
    "import numpy as np\r\n",
    "import pandas as pd\r\n",
    "from PIL import Image\r\n",
    "import paddle\r\n",
    "\r\n",
    "def set_seed(seed):\r\n",
    "    \"\"\"sets random seed\"\"\"\r\n",
    "    random.seed(seed)\r\n",
    "    np.random.seed(seed)\r\n",
    "    paddle.seed(seed)\r\n",
    "\r\n",
    "set_seed(0)\r\n",
    "paddle.set_device('gpu')"
   ],
   "outputs": [
    {
     "output_type": "execute_result",
     "data": {
      "text/plain": [
       "CUDAPlace(0)"
      ]
     },
     "metadata": {},
     "execution_count": 5
    }
   ],
   "metadata": {
    "collapsed": false
   }
  },
  {
   "cell_type": "markdown",
   "source": [
    "## 生成paddle数据集类\r\n",
    "- 对测试集图片的预处理如下：\r\n",
    "    - resize至[224,224,3]\r\n",
    "    - 改变通道位置Channel Last->Channel First\r\n",
    "    - 输入归一化"
   ],
   "metadata": {
    "collapsed": false
   }
  },
  {
   "cell_type": "code",
   "execution_count": 6,
   "source": [
    "from paddle.io import Dataset\r\n",
    "import paddle.vision.transforms as T\r\n",
    "\r\n",
    "class PALMTsData(Dataset):\r\n",
    "    def __init__(self,path):\r\n",
    "        super(PALMTsData,self).__init__()\r\n",
    "        self.path=path\r\n",
    "        self.pic_list=os.listdir(path)\r\n",
    "        self.tf=T.Compose([\r\n",
    "            T.Resize((224,224), interpolation='bicubic'),\r\n",
    "            T.ToTensor(),\r\n",
    "            T.Normalize(mean=[0.485, 0.456, 0.406], std=[0.229, 0.224, 0.225])\r\n",
    "        ])\r\n",
    "        print(len(self.pic_list))\r\n",
    "    \r\n",
    "    def __getitem__(self,idx):\r\n",
    "        pic_name=self.pic_list[idx]\r\n",
    "        pic=Image.open(self.path+'/'+pic_name)\r\n",
    "        pic=self.tf(pic)\r\n",
    "        return pic,0\r\n",
    "\r\n",
    "    def __len__(self):\r\n",
    "        return len(self.pic_list)\r\n",
    "\r\n",
    "ts_path='../data/PALM-Testing400-Images'\r\n",
    "tsData=PALMTsData(path=ts_path)"
   ],
   "outputs": [
    {
     "output_type": "stream",
     "name": "stdout",
     "text": [
      "400\n"
     ]
    }
   ],
   "metadata": {
    "collapsed": false
   }
  },
  {
   "cell_type": "markdown",
   "source": [
    "## 构建模型\r\n",
    "- 模型使用预训练模型resnet50 + Diet_base_224为主体，二者直接并联，输出为[1000+1000]\r\n",
    "- 下游任务分类器结构为2层全连接网络(2000->100->2)，以relu激活，并辅以Dropout=0.2防止过拟合\r\n",
    "- 下游任务被设定为二分类问题"
   ],
   "metadata": {
    "collapsed": false
   }
  },
  {
   "cell_type": "code",
   "execution_count": 7,
   "source": [
    "from paddle import nn\r\n",
    "import paddle.nn.functional as F\r\n",
    "from ppim import deit_b_distilled\r\n",
    "from paddle.vision.models import resnet50\r\n",
    "\r\n",
    "class PALM(nn.Layer):\r\n",
    "    def __init__(self):\r\n",
    "        super(PALM,self).__init__()\r\n",
    "        self.deit=deit_b_distilled(pretrained=True)\r\n",
    "        self.resnet=resnet50(pretrained=True)\r\n",
    "        self.do1=nn.Dropout(p=0.2)\r\n",
    "        self.lr1=nn.Linear(in_features=2000, out_features=100)\r\n",
    "        self.do2=nn.Dropout(p=0.2)\r\n",
    "        self.lr2=nn.Linear(in_features=100, out_features=1)\r\n",
    "\r\n",
    "    def forward(self,x):\r\n",
    "        x1=self.deit(x)\r\n",
    "        x2=self.resnet(x)\r\n",
    "        x=paddle.concat([x1,x2],axis=-1)\r\n",
    "        x=F.relu(x)\r\n",
    "        x=self.do1(x)\r\n",
    "        x=self.lr1(x)\r\n",
    "        x=F.relu(x)\r\n",
    "        x=self.do2(x)\r\n",
    "        x=self.lr2(x)\r\n",
    "        x=F.sigmoid(x)\r\n",
    "        return x\r\n",
    "\r\n",
    "palm=PALM()\r\n",
    "palm.set_state_dict(paddle.load('./savepoint/final'))"
   ],
   "outputs": [
    {
     "output_type": "stream",
     "name": "stderr",
     "text": [
      "100%|██████████| 511043/511043 [00:08<00:00, 62638.32it/s]\n",
      "100%|██████████| 151272/151272 [00:02<00:00, 62563.23it/s]\n",
      "/opt/conda/envs/python35-paddle120-env/lib/python3.7/site-packages/paddle/fluid/backward.py:1666: DeprecationWarning: Using or importing the ABCs from 'collections' instead of from 'collections.abc' is deprecated, and in 3.8 it will stop working\n",
      "  return list(x) if isinstance(x, collections.Sequence) else [x]\n"
     ]
    }
   ],
   "metadata": {
    "collapsed": false
   }
  },
  {
   "cell_type": "markdown",
   "source": [
    "## 模型训练参数\r\n",
    "- 优化器：adam\r\n",
    "- Loss：二分类使用BCELoss\r\n",
    "- 学习率：固定5e-5"
   ],
   "metadata": {
    "collapsed": false
   }
  },
  {
   "cell_type": "code",
   "execution_count": null,
   "source": [
    "from paddle.optimizer import Adam\r\n",
    "from paddle.nn import BCELoss\r\n",
    "from paddle.metric import Accuracy\r\n",
    "\r\n",
    "inputs=paddle.static.InputSpec([-1, 3, 224, 224], dtype='float32', name='input')\r\n",
    "label=paddle.static.InputSpec([-1, 1], dtype='float32', name='label')\r\n",
    "model=paddle.Model(palm, inputs, label)\r\n",
    "model.summary()\r\n",
    "model.prepare(optimizer=Adam(learning_rate=5e-5,parameters=model.parameters()),loss=BCELoss(),metrics=Accuracy())"
   ],
   "outputs": [
    {
     "output_type": "stream",
     "name": "stdout",
     "text": [
      "----------------------------------------------------------------------------------------\n",
      "        Layer (type)             Input Shape          Output Shape         Param #    \n",
      "========================================================================================\n",
      "          Conv2D-5            [[1, 3, 224, 224]]    [1, 768, 14, 14]       590,592    \n",
      "        PatchEmbed-1          [[1, 3, 224, 224]]     [1, 196, 768]            0       \n",
      "         Dropout-1             [[1, 198, 768]]       [1, 198, 768]            0       \n",
      "        LayerNorm-1            [[1, 198, 768]]       [1, 198, 768]          1,536     \n",
      "          Linear-1             [[1, 198, 768]]       [1, 198, 2304]       1,771,776   \n",
      "         Dropout-2           [[1, 12, 198, 198]]   [1, 12, 198, 198]          0       \n",
      "          Linear-2             [[1, 198, 768]]       [1, 198, 768]         590,592    \n",
      "         Dropout-3             [[1, 198, 768]]       [1, 198, 768]            0       \n",
      "        Attention-1            [[1, 198, 768]]       [1, 198, 768]            0       \n",
      "         Identity-1            [[1, 198, 768]]       [1, 198, 768]            0       \n",
      "        LayerNorm-2            [[1, 198, 768]]       [1, 198, 768]          1,536     \n",
      "          Linear-3             [[1, 198, 768]]       [1, 198, 3072]       2,362,368   \n",
      "           GELU-1              [[1, 198, 3072]]      [1, 198, 3072]           0       \n",
      "         Dropout-4             [[1, 198, 768]]       [1, 198, 768]            0       \n",
      "          Linear-4             [[1, 198, 3072]]      [1, 198, 768]        2,360,064   \n",
      "           Mlp-1               [[1, 198, 768]]       [1, 198, 768]            0       \n",
      "          Block-1              [[1, 198, 768]]       [1, 198, 768]            0       \n",
      "        LayerNorm-3            [[1, 198, 768]]       [1, 198, 768]          1,536     \n",
      "          Linear-5             [[1, 198, 768]]       [1, 198, 2304]       1,771,776   \n",
      "         Dropout-5           [[1, 12, 198, 198]]   [1, 12, 198, 198]          0       \n",
      "          Linear-6             [[1, 198, 768]]       [1, 198, 768]         590,592    \n",
      "         Dropout-6             [[1, 198, 768]]       [1, 198, 768]            0       \n",
      "        Attention-2            [[1, 198, 768]]       [1, 198, 768]            0       \n",
      "         Identity-2            [[1, 198, 768]]       [1, 198, 768]            0       \n",
      "        LayerNorm-4            [[1, 198, 768]]       [1, 198, 768]          1,536     \n",
      "          Linear-7             [[1, 198, 768]]       [1, 198, 3072]       2,362,368   \n",
      "           GELU-2              [[1, 198, 3072]]      [1, 198, 3072]           0       \n",
      "         Dropout-7             [[1, 198, 768]]       [1, 198, 768]            0       \n",
      "          Linear-8             [[1, 198, 3072]]      [1, 198, 768]        2,360,064   \n",
      "           Mlp-2               [[1, 198, 768]]       [1, 198, 768]            0       \n",
      "          Block-2              [[1, 198, 768]]       [1, 198, 768]            0       \n",
      "        LayerNorm-5            [[1, 198, 768]]       [1, 198, 768]          1,536     \n",
      "          Linear-9             [[1, 198, 768]]       [1, 198, 2304]       1,771,776   \n",
      "         Dropout-8           [[1, 12, 198, 198]]   [1, 12, 198, 198]          0       \n",
      "         Linear-10             [[1, 198, 768]]       [1, 198, 768]         590,592    \n",
      "         Dropout-9             [[1, 198, 768]]       [1, 198, 768]            0       \n",
      "        Attention-3            [[1, 198, 768]]       [1, 198, 768]            0       \n",
      "         Identity-3            [[1, 198, 768]]       [1, 198, 768]            0       \n",
      "        LayerNorm-6            [[1, 198, 768]]       [1, 198, 768]          1,536     \n",
      "         Linear-11             [[1, 198, 768]]       [1, 198, 3072]       2,362,368   \n",
      "           GELU-3              [[1, 198, 3072]]      [1, 198, 3072]           0       \n",
      "         Dropout-10            [[1, 198, 768]]       [1, 198, 768]            0       \n",
      "         Linear-12             [[1, 198, 3072]]      [1, 198, 768]        2,360,064   \n",
      "           Mlp-3               [[1, 198, 768]]       [1, 198, 768]            0       \n",
      "          Block-3              [[1, 198, 768]]       [1, 198, 768]            0       \n",
      "        LayerNorm-7            [[1, 198, 768]]       [1, 198, 768]          1,536     \n",
      "         Linear-13             [[1, 198, 768]]       [1, 198, 2304]       1,771,776   \n",
      "         Dropout-11          [[1, 12, 198, 198]]   [1, 12, 198, 198]          0       \n",
      "         Linear-14             [[1, 198, 768]]       [1, 198, 768]         590,592    \n",
      "         Dropout-12            [[1, 198, 768]]       [1, 198, 768]            0       \n",
      "        Attention-4            [[1, 198, 768]]       [1, 198, 768]            0       \n",
      "         Identity-4            [[1, 198, 768]]       [1, 198, 768]            0       \n",
      "        LayerNorm-8            [[1, 198, 768]]       [1, 198, 768]          1,536     \n",
      "         Linear-15             [[1, 198, 768]]       [1, 198, 3072]       2,362,368   \n",
      "           GELU-4              [[1, 198, 3072]]      [1, 198, 3072]           0       \n",
      "         Dropout-13            [[1, 198, 768]]       [1, 198, 768]            0       \n",
      "         Linear-16             [[1, 198, 3072]]      [1, 198, 768]        2,360,064   \n",
      "           Mlp-4               [[1, 198, 768]]       [1, 198, 768]            0       \n",
      "          Block-4              [[1, 198, 768]]       [1, 198, 768]            0       \n",
      "        LayerNorm-9            [[1, 198, 768]]       [1, 198, 768]          1,536     \n",
      "         Linear-17             [[1, 198, 768]]       [1, 198, 2304]       1,771,776   \n",
      "         Dropout-14          [[1, 12, 198, 198]]   [1, 12, 198, 198]          0       \n",
      "         Linear-18             [[1, 198, 768]]       [1, 198, 768]         590,592    \n",
      "         Dropout-15            [[1, 198, 768]]       [1, 198, 768]            0       \n",
      "        Attention-5            [[1, 198, 768]]       [1, 198, 768]            0       \n",
      "         Identity-5            [[1, 198, 768]]       [1, 198, 768]            0       \n",
      "        LayerNorm-10           [[1, 198, 768]]       [1, 198, 768]          1,536     \n",
      "         Linear-19             [[1, 198, 768]]       [1, 198, 3072]       2,362,368   \n",
      "           GELU-5              [[1, 198, 3072]]      [1, 198, 3072]           0       \n",
      "         Dropout-16            [[1, 198, 768]]       [1, 198, 768]            0       \n",
      "         Linear-20             [[1, 198, 3072]]      [1, 198, 768]        2,360,064   \n",
      "           Mlp-5               [[1, 198, 768]]       [1, 198, 768]            0       \n",
      "          Block-5              [[1, 198, 768]]       [1, 198, 768]            0       \n",
      "        LayerNorm-11           [[1, 198, 768]]       [1, 198, 768]          1,536     \n",
      "         Linear-21             [[1, 198, 768]]       [1, 198, 2304]       1,771,776   \n",
      "         Dropout-17          [[1, 12, 198, 198]]   [1, 12, 198, 198]          0       \n",
      "         Linear-22             [[1, 198, 768]]       [1, 198, 768]         590,592    \n",
      "         Dropout-18            [[1, 198, 768]]       [1, 198, 768]            0       \n",
      "        Attention-6            [[1, 198, 768]]       [1, 198, 768]            0       \n",
      "         Identity-6            [[1, 198, 768]]       [1, 198, 768]            0       \n",
      "        LayerNorm-12           [[1, 198, 768]]       [1, 198, 768]          1,536     \n",
      "         Linear-23             [[1, 198, 768]]       [1, 198, 3072]       2,362,368   \n",
      "           GELU-6              [[1, 198, 3072]]      [1, 198, 3072]           0       \n",
      "         Dropout-19            [[1, 198, 768]]       [1, 198, 768]            0       \n",
      "         Linear-24             [[1, 198, 3072]]      [1, 198, 768]        2,360,064   \n",
      "           Mlp-6               [[1, 198, 768]]       [1, 198, 768]            0       \n",
      "          Block-6              [[1, 198, 768]]       [1, 198, 768]            0       \n",
      "        LayerNorm-13           [[1, 198, 768]]       [1, 198, 768]          1,536     \n",
      "         Linear-25             [[1, 198, 768]]       [1, 198, 2304]       1,771,776   \n",
      "         Dropout-20          [[1, 12, 198, 198]]   [1, 12, 198, 198]          0       \n",
      "         Linear-26             [[1, 198, 768]]       [1, 198, 768]         590,592    \n",
      "         Dropout-21            [[1, 198, 768]]       [1, 198, 768]            0       \n",
      "        Attention-7            [[1, 198, 768]]       [1, 198, 768]            0       \n",
      "         Identity-7            [[1, 198, 768]]       [1, 198, 768]            0       \n",
      "        LayerNorm-14           [[1, 198, 768]]       [1, 198, 768]          1,536     \n",
      "         Linear-27             [[1, 198, 768]]       [1, 198, 3072]       2,362,368   \n",
      "           GELU-7              [[1, 198, 3072]]      [1, 198, 3072]           0       \n",
      "         Dropout-22            [[1, 198, 768]]       [1, 198, 768]            0       \n",
      "         Linear-28             [[1, 198, 3072]]      [1, 198, 768]        2,360,064   \n",
      "           Mlp-7               [[1, 198, 768]]       [1, 198, 768]            0       \n",
      "          Block-7              [[1, 198, 768]]       [1, 198, 768]            0       \n",
      "        LayerNorm-15           [[1, 198, 768]]       [1, 198, 768]          1,536     \n",
      "         Linear-29             [[1, 198, 768]]       [1, 198, 2304]       1,771,776   \n",
      "         Dropout-23          [[1, 12, 198, 198]]   [1, 12, 198, 198]          0       \n",
      "         Linear-30             [[1, 198, 768]]       [1, 198, 768]         590,592    \n",
      "         Dropout-24            [[1, 198, 768]]       [1, 198, 768]            0       \n",
      "        Attention-8            [[1, 198, 768]]       [1, 198, 768]            0       \n",
      "         Identity-8            [[1, 198, 768]]       [1, 198, 768]            0       \n",
      "        LayerNorm-16           [[1, 198, 768]]       [1, 198, 768]          1,536     \n",
      "         Linear-31             [[1, 198, 768]]       [1, 198, 3072]       2,362,368   \n",
      "           GELU-8              [[1, 198, 3072]]      [1, 198, 3072]           0       \n",
      "         Dropout-25            [[1, 198, 768]]       [1, 198, 768]            0       \n",
      "         Linear-32             [[1, 198, 3072]]      [1, 198, 768]        2,360,064   \n",
      "           Mlp-8               [[1, 198, 768]]       [1, 198, 768]            0       \n",
      "          Block-8              [[1, 198, 768]]       [1, 198, 768]            0       \n",
      "        LayerNorm-17           [[1, 198, 768]]       [1, 198, 768]          1,536     \n",
      "         Linear-33             [[1, 198, 768]]       [1, 198, 2304]       1,771,776   \n",
      "         Dropout-26          [[1, 12, 198, 198]]   [1, 12, 198, 198]          0       \n",
      "         Linear-34             [[1, 198, 768]]       [1, 198, 768]         590,592    \n",
      "         Dropout-27            [[1, 198, 768]]       [1, 198, 768]            0       \n",
      "        Attention-9            [[1, 198, 768]]       [1, 198, 768]            0       \n",
      "         Identity-9            [[1, 198, 768]]       [1, 198, 768]            0       \n",
      "        LayerNorm-18           [[1, 198, 768]]       [1, 198, 768]          1,536     \n",
      "         Linear-35             [[1, 198, 768]]       [1, 198, 3072]       2,362,368   \n",
      "           GELU-9              [[1, 198, 3072]]      [1, 198, 3072]           0       \n",
      "         Dropout-28            [[1, 198, 768]]       [1, 198, 768]            0       \n",
      "         Linear-36             [[1, 198, 3072]]      [1, 198, 768]        2,360,064   \n",
      "           Mlp-9               [[1, 198, 768]]       [1, 198, 768]            0       \n",
      "          Block-9              [[1, 198, 768]]       [1, 198, 768]            0       \n",
      "        LayerNorm-19           [[1, 198, 768]]       [1, 198, 768]          1,536     \n",
      "         Linear-37             [[1, 198, 768]]       [1, 198, 2304]       1,771,776   \n",
      "         Dropout-29          [[1, 12, 198, 198]]   [1, 12, 198, 198]          0       \n",
      "         Linear-38             [[1, 198, 768]]       [1, 198, 768]         590,592    \n",
      "         Dropout-30            [[1, 198, 768]]       [1, 198, 768]            0       \n",
      "        Attention-10           [[1, 198, 768]]       [1, 198, 768]            0       \n",
      "        Identity-10            [[1, 198, 768]]       [1, 198, 768]            0       \n",
      "        LayerNorm-20           [[1, 198, 768]]       [1, 198, 768]          1,536     \n",
      "         Linear-39             [[1, 198, 768]]       [1, 198, 3072]       2,362,368   \n",
      "          GELU-10              [[1, 198, 3072]]      [1, 198, 3072]           0       \n",
      "         Dropout-31            [[1, 198, 768]]       [1, 198, 768]            0       \n",
      "         Linear-40             [[1, 198, 3072]]      [1, 198, 768]        2,360,064   \n",
      "           Mlp-10              [[1, 198, 768]]       [1, 198, 768]            0       \n",
      "          Block-10             [[1, 198, 768]]       [1, 198, 768]            0       \n",
      "        LayerNorm-21           [[1, 198, 768]]       [1, 198, 768]          1,536     \n",
      "         Linear-41             [[1, 198, 768]]       [1, 198, 2304]       1,771,776   \n",
      "         Dropout-32          [[1, 12, 198, 198]]   [1, 12, 198, 198]          0       \n",
      "         Linear-42             [[1, 198, 768]]       [1, 198, 768]         590,592    \n",
      "         Dropout-33            [[1, 198, 768]]       [1, 198, 768]            0       \n",
      "        Attention-11           [[1, 198, 768]]       [1, 198, 768]            0       \n",
      "        Identity-11            [[1, 198, 768]]       [1, 198, 768]            0       \n",
      "        LayerNorm-22           [[1, 198, 768]]       [1, 198, 768]          1,536     \n",
      "         Linear-43             [[1, 198, 768]]       [1, 198, 3072]       2,362,368   \n",
      "          GELU-11              [[1, 198, 3072]]      [1, 198, 3072]           0       \n",
      "         Dropout-34            [[1, 198, 768]]       [1, 198, 768]            0       \n",
      "         Linear-44             [[1, 198, 3072]]      [1, 198, 768]        2,360,064   \n",
      "           Mlp-11              [[1, 198, 768]]       [1, 198, 768]            0       \n",
      "          Block-11             [[1, 198, 768]]       [1, 198, 768]            0       \n",
      "        LayerNorm-23           [[1, 198, 768]]       [1, 198, 768]          1,536     \n",
      "         Linear-45             [[1, 198, 768]]       [1, 198, 2304]       1,771,776   \n",
      "         Dropout-35          [[1, 12, 198, 198]]   [1, 12, 198, 198]          0       \n",
      "         Linear-46             [[1, 198, 768]]       [1, 198, 768]         590,592    \n",
      "         Dropout-36            [[1, 198, 768]]       [1, 198, 768]            0       \n",
      "        Attention-12           [[1, 198, 768]]       [1, 198, 768]            0       \n",
      "        Identity-12            [[1, 198, 768]]       [1, 198, 768]            0       \n",
      "        LayerNorm-24           [[1, 198, 768]]       [1, 198, 768]          1,536     \n",
      "         Linear-47             [[1, 198, 768]]       [1, 198, 3072]       2,362,368   \n",
      "          GELU-12              [[1, 198, 3072]]      [1, 198, 3072]           0       \n",
      "         Dropout-37            [[1, 198, 768]]       [1, 198, 768]            0       \n",
      "         Linear-48             [[1, 198, 3072]]      [1, 198, 768]        2,360,064   \n",
      "           Mlp-12              [[1, 198, 768]]       [1, 198, 768]            0       \n",
      "          Block-12             [[1, 198, 768]]       [1, 198, 768]            0       \n",
      "        LayerNorm-25           [[1, 198, 768]]       [1, 198, 768]          1,536     \n",
      "         Linear-49                [[1, 768]]           [1, 1000]           769,000    \n",
      "         Linear-50                [[1, 768]]           [1, 1000]           769,000    \n",
      "DistilledVisionTransformer-1  [[1, 3, 224, 224]]       [1, 1000]           153,600    \n",
      "          Conv2D-6            [[1, 3, 224, 224]]   [1, 64, 112, 112]        9,408     \n",
      "       BatchNorm2D-5         [[1, 64, 112, 112]]   [1, 64, 112, 112]         256      \n",
      "           ReLU-1            [[1, 64, 112, 112]]   [1, 64, 112, 112]          0       \n",
      "        MaxPool2D-1          [[1, 64, 112, 112]]    [1, 64, 56, 56]           0       \n",
      "          Conv2D-8            [[1, 64, 56, 56]]     [1, 64, 56, 56]         4,096     \n",
      "       BatchNorm2D-7          [[1, 64, 56, 56]]     [1, 64, 56, 56]          256      \n",
      "           ReLU-2             [[1, 256, 56, 56]]    [1, 256, 56, 56]          0       \n",
      "          Conv2D-9            [[1, 64, 56, 56]]     [1, 64, 56, 56]        36,864     \n",
      "       BatchNorm2D-8          [[1, 64, 56, 56]]     [1, 64, 56, 56]          256      \n",
      "         Conv2D-10            [[1, 64, 56, 56]]     [1, 256, 56, 56]       16,384     \n",
      "       BatchNorm2D-9          [[1, 256, 56, 56]]    [1, 256, 56, 56]        1,024     \n",
      "          Conv2D-7            [[1, 64, 56, 56]]     [1, 256, 56, 56]       16,384     \n",
      "       BatchNorm2D-6          [[1, 256, 56, 56]]    [1, 256, 56, 56]        1,024     \n",
      "     BottleneckBlock-1        [[1, 64, 56, 56]]     [1, 256, 56, 56]          0       \n",
      "         Conv2D-11            [[1, 256, 56, 56]]    [1, 64, 56, 56]        16,384     \n",
      "       BatchNorm2D-10         [[1, 64, 56, 56]]     [1, 64, 56, 56]          256      \n",
      "           ReLU-3             [[1, 256, 56, 56]]    [1, 256, 56, 56]          0       \n",
      "         Conv2D-12            [[1, 64, 56, 56]]     [1, 64, 56, 56]        36,864     \n",
      "       BatchNorm2D-11         [[1, 64, 56, 56]]     [1, 64, 56, 56]          256      \n",
      "         Conv2D-13            [[1, 64, 56, 56]]     [1, 256, 56, 56]       16,384     \n",
      "       BatchNorm2D-12         [[1, 256, 56, 56]]    [1, 256, 56, 56]        1,024     \n",
      "     BottleneckBlock-2        [[1, 256, 56, 56]]    [1, 256, 56, 56]          0       \n",
      "         Conv2D-14            [[1, 256, 56, 56]]    [1, 64, 56, 56]        16,384     \n",
      "       BatchNorm2D-13         [[1, 64, 56, 56]]     [1, 64, 56, 56]          256      \n",
      "           ReLU-4             [[1, 256, 56, 56]]    [1, 256, 56, 56]          0       \n",
      "         Conv2D-15            [[1, 64, 56, 56]]     [1, 64, 56, 56]        36,864     \n",
      "       BatchNorm2D-14         [[1, 64, 56, 56]]     [1, 64, 56, 56]          256      \n",
      "         Conv2D-16            [[1, 64, 56, 56]]     [1, 256, 56, 56]       16,384     \n",
      "       BatchNorm2D-15         [[1, 256, 56, 56]]    [1, 256, 56, 56]        1,024     \n",
      "     BottleneckBlock-3        [[1, 256, 56, 56]]    [1, 256, 56, 56]          0       \n",
      "         Conv2D-18            [[1, 256, 56, 56]]    [1, 128, 56, 56]       32,768     \n",
      "       BatchNorm2D-17         [[1, 128, 56, 56]]    [1, 128, 56, 56]         512      \n",
      "           ReLU-5             [[1, 512, 28, 28]]    [1, 512, 28, 28]          0       \n",
      "         Conv2D-19            [[1, 128, 56, 56]]    [1, 128, 28, 28]       147,456    \n",
      "       BatchNorm2D-18         [[1, 128, 28, 28]]    [1, 128, 28, 28]         512      \n",
      "         Conv2D-20            [[1, 128, 28, 28]]    [1, 512, 28, 28]       65,536     \n",
      "       BatchNorm2D-19         [[1, 512, 28, 28]]    [1, 512, 28, 28]        2,048     \n",
      "         Conv2D-17            [[1, 256, 56, 56]]    [1, 512, 28, 28]       131,072    \n",
      "       BatchNorm2D-16         [[1, 512, 28, 28]]    [1, 512, 28, 28]        2,048     \n",
      "     BottleneckBlock-4        [[1, 256, 56, 56]]    [1, 512, 28, 28]          0       \n",
      "         Conv2D-21            [[1, 512, 28, 28]]    [1, 128, 28, 28]       65,536     \n",
      "       BatchNorm2D-20         [[1, 128, 28, 28]]    [1, 128, 28, 28]         512      \n",
      "           ReLU-6             [[1, 512, 28, 28]]    [1, 512, 28, 28]          0       \n",
      "         Conv2D-22            [[1, 128, 28, 28]]    [1, 128, 28, 28]       147,456    \n",
      "       BatchNorm2D-21         [[1, 128, 28, 28]]    [1, 128, 28, 28]         512      \n",
      "         Conv2D-23            [[1, 128, 28, 28]]    [1, 512, 28, 28]       65,536     \n",
      "       BatchNorm2D-22         [[1, 512, 28, 28]]    [1, 512, 28, 28]        2,048     \n",
      "     BottleneckBlock-5        [[1, 512, 28, 28]]    [1, 512, 28, 28]          0       \n",
      "         Conv2D-24            [[1, 512, 28, 28]]    [1, 128, 28, 28]       65,536     \n",
      "       BatchNorm2D-23         [[1, 128, 28, 28]]    [1, 128, 28, 28]         512      \n",
      "           ReLU-7             [[1, 512, 28, 28]]    [1, 512, 28, 28]          0       \n",
      "         Conv2D-25            [[1, 128, 28, 28]]    [1, 128, 28, 28]       147,456    \n",
      "       BatchNorm2D-24         [[1, 128, 28, 28]]    [1, 128, 28, 28]         512      \n",
      "         Conv2D-26            [[1, 128, 28, 28]]    [1, 512, 28, 28]       65,536     \n",
      "       BatchNorm2D-25         [[1, 512, 28, 28]]    [1, 512, 28, 28]        2,048     \n",
      "     BottleneckBlock-6        [[1, 512, 28, 28]]    [1, 512, 28, 28]          0       \n",
      "         Conv2D-27            [[1, 512, 28, 28]]    [1, 128, 28, 28]       65,536     \n",
      "       BatchNorm2D-26         [[1, 128, 28, 28]]    [1, 128, 28, 28]         512      \n",
      "           ReLU-8             [[1, 512, 28, 28]]    [1, 512, 28, 28]          0       \n",
      "         Conv2D-28            [[1, 128, 28, 28]]    [1, 128, 28, 28]       147,456    \n",
      "       BatchNorm2D-27         [[1, 128, 28, 28]]    [1, 128, 28, 28]         512      \n",
      "         Conv2D-29            [[1, 128, 28, 28]]    [1, 512, 28, 28]       65,536     \n",
      "       BatchNorm2D-28         [[1, 512, 28, 28]]    [1, 512, 28, 28]        2,048     \n",
      "     BottleneckBlock-7        [[1, 512, 28, 28]]    [1, 512, 28, 28]          0       \n",
      "         Conv2D-31            [[1, 512, 28, 28]]    [1, 256, 28, 28]       131,072    \n",
      "       BatchNorm2D-30         [[1, 256, 28, 28]]    [1, 256, 28, 28]        1,024     \n",
      "           ReLU-9            [[1, 1024, 14, 14]]   [1, 1024, 14, 14]          0       \n",
      "         Conv2D-32            [[1, 256, 28, 28]]    [1, 256, 14, 14]       589,824    \n",
      "       BatchNorm2D-31         [[1, 256, 14, 14]]    [1, 256, 14, 14]        1,024     \n",
      "         Conv2D-33            [[1, 256, 14, 14]]   [1, 1024, 14, 14]       262,144    \n",
      "       BatchNorm2D-32        [[1, 1024, 14, 14]]   [1, 1024, 14, 14]        4,096     \n",
      "         Conv2D-30            [[1, 512, 28, 28]]   [1, 1024, 14, 14]       524,288    \n",
      "       BatchNorm2D-29        [[1, 1024, 14, 14]]   [1, 1024, 14, 14]        4,096     \n",
      "     BottleneckBlock-8        [[1, 512, 28, 28]]   [1, 1024, 14, 14]          0       \n",
      "         Conv2D-34           [[1, 1024, 14, 14]]    [1, 256, 14, 14]       262,144    \n",
      "       BatchNorm2D-33         [[1, 256, 14, 14]]    [1, 256, 14, 14]        1,024     \n",
      "          ReLU-10            [[1, 1024, 14, 14]]   [1, 1024, 14, 14]          0       \n",
      "         Conv2D-35            [[1, 256, 14, 14]]    [1, 256, 14, 14]       589,824    \n",
      "       BatchNorm2D-34         [[1, 256, 14, 14]]    [1, 256, 14, 14]        1,024     \n",
      "         Conv2D-36            [[1, 256, 14, 14]]   [1, 1024, 14, 14]       262,144    \n",
      "       BatchNorm2D-35        [[1, 1024, 14, 14]]   [1, 1024, 14, 14]        4,096     \n",
      "     BottleneckBlock-9       [[1, 1024, 14, 14]]   [1, 1024, 14, 14]          0       \n",
      "         Conv2D-37           [[1, 1024, 14, 14]]    [1, 256, 14, 14]       262,144    \n",
      "       BatchNorm2D-36         [[1, 256, 14, 14]]    [1, 256, 14, 14]        1,024     \n",
      "          ReLU-11            [[1, 1024, 14, 14]]   [1, 1024, 14, 14]          0       \n",
      "         Conv2D-38            [[1, 256, 14, 14]]    [1, 256, 14, 14]       589,824    \n",
      "       BatchNorm2D-37         [[1, 256, 14, 14]]    [1, 256, 14, 14]        1,024     \n",
      "         Conv2D-39            [[1, 256, 14, 14]]   [1, 1024, 14, 14]       262,144    \n",
      "       BatchNorm2D-38        [[1, 1024, 14, 14]]   [1, 1024, 14, 14]        4,096     \n",
      "     BottleneckBlock-10      [[1, 1024, 14, 14]]   [1, 1024, 14, 14]          0       \n",
      "         Conv2D-40           [[1, 1024, 14, 14]]    [1, 256, 14, 14]       262,144    \n",
      "       BatchNorm2D-39         [[1, 256, 14, 14]]    [1, 256, 14, 14]        1,024     \n",
      "          ReLU-12            [[1, 1024, 14, 14]]   [1, 1024, 14, 14]          0       \n",
      "         Conv2D-41            [[1, 256, 14, 14]]    [1, 256, 14, 14]       589,824    \n",
      "       BatchNorm2D-40         [[1, 256, 14, 14]]    [1, 256, 14, 14]        1,024     \n",
      "         Conv2D-42            [[1, 256, 14, 14]]   [1, 1024, 14, 14]       262,144    \n",
      "       BatchNorm2D-41        [[1, 1024, 14, 14]]   [1, 1024, 14, 14]        4,096     \n",
      "     BottleneckBlock-11      [[1, 1024, 14, 14]]   [1, 1024, 14, 14]          0       \n",
      "         Conv2D-43           [[1, 1024, 14, 14]]    [1, 256, 14, 14]       262,144    \n",
      "       BatchNorm2D-42         [[1, 256, 14, 14]]    [1, 256, 14, 14]        1,024     \n",
      "          ReLU-13            [[1, 1024, 14, 14]]   [1, 1024, 14, 14]          0       \n",
      "         Conv2D-44            [[1, 256, 14, 14]]    [1, 256, 14, 14]       589,824    \n",
      "       BatchNorm2D-43         [[1, 256, 14, 14]]    [1, 256, 14, 14]        1,024     \n",
      "         Conv2D-45            [[1, 256, 14, 14]]   [1, 1024, 14, 14]       262,144    \n",
      "       BatchNorm2D-44        [[1, 1024, 14, 14]]   [1, 1024, 14, 14]        4,096     \n",
      "     BottleneckBlock-12      [[1, 1024, 14, 14]]   [1, 1024, 14, 14]          0       \n",
      "         Conv2D-46           [[1, 1024, 14, 14]]    [1, 256, 14, 14]       262,144    \n",
      "       BatchNorm2D-45         [[1, 256, 14, 14]]    [1, 256, 14, 14]        1,024     \n",
      "          ReLU-14            [[1, 1024, 14, 14]]   [1, 1024, 14, 14]          0       \n",
      "         Conv2D-47            [[1, 256, 14, 14]]    [1, 256, 14, 14]       589,824    \n",
      "       BatchNorm2D-46         [[1, 256, 14, 14]]    [1, 256, 14, 14]        1,024     \n",
      "         Conv2D-48            [[1, 256, 14, 14]]   [1, 1024, 14, 14]       262,144    \n",
      "       BatchNorm2D-47        [[1, 1024, 14, 14]]   [1, 1024, 14, 14]        4,096     \n",
      "     BottleneckBlock-13      [[1, 1024, 14, 14]]   [1, 1024, 14, 14]          0       \n",
      "         Conv2D-50           [[1, 1024, 14, 14]]    [1, 512, 14, 14]       524,288    \n",
      "       BatchNorm2D-49         [[1, 512, 14, 14]]    [1, 512, 14, 14]        2,048     \n",
      "          ReLU-15             [[1, 2048, 7, 7]]     [1, 2048, 7, 7]           0       \n",
      "         Conv2D-51            [[1, 512, 14, 14]]     [1, 512, 7, 7]       2,359,296   \n",
      "       BatchNorm2D-50          [[1, 512, 7, 7]]      [1, 512, 7, 7]         2,048     \n",
      "         Conv2D-52             [[1, 512, 7, 7]]     [1, 2048, 7, 7]       1,048,576   \n",
      "       BatchNorm2D-51         [[1, 2048, 7, 7]]     [1, 2048, 7, 7]         8,192     \n",
      "         Conv2D-49           [[1, 1024, 14, 14]]    [1, 2048, 7, 7]       2,097,152   \n",
      "       BatchNorm2D-48         [[1, 2048, 7, 7]]     [1, 2048, 7, 7]         8,192     \n",
      "     BottleneckBlock-14      [[1, 1024, 14, 14]]    [1, 2048, 7, 7]           0       \n",
      "         Conv2D-53            [[1, 2048, 7, 7]]      [1, 512, 7, 7]       1,048,576   \n",
      "       BatchNorm2D-52          [[1, 512, 7, 7]]      [1, 512, 7, 7]         2,048     \n",
      "          ReLU-16             [[1, 2048, 7, 7]]     [1, 2048, 7, 7]           0       \n",
      "         Conv2D-54             [[1, 512, 7, 7]]      [1, 512, 7, 7]       2,359,296   \n",
      "       BatchNorm2D-53          [[1, 512, 7, 7]]      [1, 512, 7, 7]         2,048     \n",
      "         Conv2D-55             [[1, 512, 7, 7]]     [1, 2048, 7, 7]       1,048,576   \n",
      "       BatchNorm2D-54         [[1, 2048, 7, 7]]     [1, 2048, 7, 7]         8,192     \n",
      "     BottleneckBlock-15       [[1, 2048, 7, 7]]     [1, 2048, 7, 7]           0       \n",
      "         Conv2D-56            [[1, 2048, 7, 7]]      [1, 512, 7, 7]       1,048,576   \n",
      "       BatchNorm2D-55          [[1, 512, 7, 7]]      [1, 512, 7, 7]         2,048     \n",
      "          ReLU-17             [[1, 2048, 7, 7]]     [1, 2048, 7, 7]           0       \n",
      "         Conv2D-57             [[1, 512, 7, 7]]      [1, 512, 7, 7]       2,359,296   \n",
      "       BatchNorm2D-56          [[1, 512, 7, 7]]      [1, 512, 7, 7]         2,048     \n",
      "         Conv2D-58             [[1, 512, 7, 7]]     [1, 2048, 7, 7]       1,048,576   \n",
      "       BatchNorm2D-57         [[1, 2048, 7, 7]]     [1, 2048, 7, 7]         8,192     \n",
      "     BottleneckBlock-16       [[1, 2048, 7, 7]]     [1, 2048, 7, 7]           0       \n",
      "    AdaptiveAvgPool2D-1       [[1, 2048, 7, 7]]     [1, 2048, 1, 1]           0       \n",
      "         Linear-51               [[1, 2048]]           [1, 1000]          2,049,000   \n",
      "          ResNet-1            [[1, 3, 224, 224]]       [1, 1000]              0       \n",
      "         Dropout-38              [[1, 2000]]           [1, 2000]              0       \n",
      "         Linear-52               [[1, 2000]]            [1, 100]           200,100    \n",
      "         Dropout-39               [[1, 100]]            [1, 100]              0       \n",
      "         Linear-53                [[1, 100]]             [1, 1]              101      \n",
      "========================================================================================\n",
      "Total params: 113,148,545\n",
      "Trainable params: 113,042,305\n",
      "Non-trainable params: 106,240\n",
      "----------------------------------------------------------------------------------------\n",
      "Input size (MB): 0.57\n",
      "Forward/backward pass size (MB): 601.58\n",
      "Params size (MB): 431.63\n",
      "Estimated Total Size (MB): 1033.78\n",
      "----------------------------------------------------------------------------------------\n",
      "\n"
     ]
    }
   ],
   "metadata": {
    "collapsed": false
   }
  },
  {
   "cell_type": "markdown",
   "source": [
    "## 模型预测\r\n",
    "- 对测试集数据预测\r\n",
    "- 预测批大小：16\r\n",
    "- 预测数据异步读取：2个进程"
   ],
   "metadata": {
    "collapsed": false
   }
  },
  {
   "cell_type": "code",
   "execution_count": null,
   "source": [
    "preds=model.predict(tsData,batch_size=16,num_workers=2)"
   ],
   "outputs": [
    {
     "output_type": "stream",
     "name": "stdout",
     "text": [
      "Predict begin...\n"
     ]
    },
    {
     "output_type": "stream",
     "name": "stderr",
     "text": [
      "/opt/conda/envs/python35-paddle120-env/lib/python3.7/site-packages/paddle/tensor/creation.py:125: DeprecationWarning: `np.object` is a deprecated alias for the builtin `object`. To silence this warning, use `object` by itself. Doing this will not modify any behavior and is safe. \n",
      "Deprecated in NumPy 1.20; for more details and guidance: https://numpy.org/devdocs/release/1.20.0-notes.html#deprecations\n",
      "  if data.dtype == np.object:\n",
      "/opt/conda/envs/python35-paddle120-env/lib/python3.7/site-packages/paddle/tensor/creation.py:125: DeprecationWarning: `np.object` is a deprecated alias for the builtin `object`. To silence this warning, use `object` by itself. Doing this will not modify any behavior and is safe. \n",
      "Deprecated in NumPy 1.20; for more details and guidance: https://numpy.org/devdocs/release/1.20.0-notes.html#deprecations\n",
      "  if data.dtype == np.object:\n"
     ]
    },
    {
     "output_type": "stream",
     "name": "stdout",
     "text": [
      "step 25/25 [==============================] - 859ms/step         \n",
      "Predict samples: 400\n"
     ]
    }
   ],
   "metadata": {
    "collapsed": false
   }
  },
  {
   "cell_type": "markdown",
   "source": [
    "## 保存预测结果\r\n",
    "- 记得按文件名重新排序"
   ],
   "metadata": {
    "collapsed": false
   }
  },
  {
   "cell_type": "code",
   "execution_count": null,
   "source": [
    "pred=np.squeeze(np.array(preds)).reshape((400,))\r\n",
    "pred_list=os.listdir(ts_path)\r\n",
    "print(pred.shape)\r\n",
    "ans=pd.DataFrame({'FileName':pred_list,'PM Risk':pred})\r\n",
    "ans=ans.sort_values(by='FileName',ignore_index=True)\r\n",
    "ans.to_csv('./Classification_Results_Test.csv',index=0)"
   ],
   "outputs": [
    {
     "output_type": "stream",
     "name": "stdout",
     "text": [
      "(400,)\n"
     ]
    }
   ],
   "metadata": {
    "collapsed": false
   }
  },
  {
   "cell_type": "markdown",
   "source": [
    "## 注意事项与特殊说明\r\n",
    "由于GitHub对大文件上传限制，模型训练参数checkpoint无法上传。\r\n",
    "- 完整repo详见AI studio项目：https://aistudio.baidu.com/aistudio/projectdetail/2318275"
   ],
   "metadata": {}
  }
 ],
 "metadata": {
  "kernelspec": {
   "display_name": "PaddlePaddle 2.1.2 (Python 3.5)",
   "language": "python",
   "name": "py35-paddle1.2.0"
  },
  "language_info": {
   "codemirror_mode": {
    "name": "ipython",
    "version": 3
   },
   "file_extension": ".py",
   "mimetype": "text/x-python",
   "name": "python",
   "nbconvert_exporter": "python",
   "pygments_lexer": "ipython3",
   "version": "3.7.4"
  }
 },
 "nbformat": 4,
 "nbformat_minor": 1
}